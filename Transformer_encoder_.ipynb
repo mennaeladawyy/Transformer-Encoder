{
  "nbformat": 4,
  "nbformat_minor": 0,
  "metadata": {
    "colab": {
      "provenance": []
    },
    "kernelspec": {
      "name": "python3",
      "display_name": "Python 3"
    },
    "language_info": {
      "name": "python"
    }
  },
  "cells": [
    {
      "cell_type": "code",
      "execution_count": 1,
      "metadata": {
        "id": "NWRslz6Jctr6"
      },
      "outputs": [],
      "source": [
        "import numpy as np"
      ]
    },
    {
      "cell_type": "code",
      "source": [
        "# Sample tokenized input (6 words)\n",
        "tokens = [\"What\", \"are\", \"the\", \"symptoms\", \"of\", \"diabetes\"]"
      ],
      "metadata": {
        "id": "gWzCGISkcv41"
      },
      "execution_count": 2,
      "outputs": []
    },
    {
      "cell_type": "code",
      "source": [
        "# Embedding matrix (each row is a token's embedding vector of size 4)\n",
        "E = np.random.rand(len(tokens), 4)  # Random embeddings for illustration"
      ],
      "metadata": {
        "id": "Y7Abn8a-cy43"
      },
      "execution_count": 3,
      "outputs": []
    },
    {
      "cell_type": "code",
      "source": [
        "# Positional encoding\n",
        "pos = np.arange(len(tokens))[:, np.newaxis]  # Positions: [0, 1, 2, ..., 5]\n",
        "div_term = np.power(10000, 2 * np.arange(2) / 4)\n",
        "pe = np.zeros((len(tokens), 4))\n",
        "pe[:, 0::2] = np.sin(pos / div_term)\n",
        "pe[:, 1::2] = np.cos(pos / div_term)"
      ],
      "metadata": {
        "id": "UP38Fye_c01K"
      },
      "execution_count": 4,
      "outputs": []
    },
    {
      "cell_type": "code",
      "source": [
        "# Input representation after adding positional encoding\n",
        "X = E + pe"
      ],
      "metadata": {
        "id": "4T0N4ifYc2lR"
      },
      "execution_count": 5,
      "outputs": []
    },
    {
      "cell_type": "code",
      "source": [
        "# Query, Key, and Value weight matrices\n",
        "W_q = np.random.rand(4, 4)\n",
        "W_k = np.random.rand(4, 4)\n",
        "W_v = np.random.rand(4, 4)"
      ],
      "metadata": {
        "id": "GEeV6-4Wc4TE"
      },
      "execution_count": 6,
      "outputs": []
    },
    {
      "cell_type": "code",
      "source": [
        "# Compute Queries (Q), Keys (K), and Values (V)\n",
        "Q = X @ W_q  # Shape: (6, 4)\n",
        "K = X @ W_k  # Shape: (6, 4)\n",
        "V = X @ W_v  # Shape: (6, 4)"
      ],
      "metadata": {
        "id": "byVCYKowc51s"
      },
      "execution_count": 7,
      "outputs": []
    },
    {
      "cell_type": "code",
      "source": [
        "# Compute Attention Scores (Softmax(QK^T / sqrt(d_k)))\n",
        "d_k = 4  # Scaling factor (dimension of key vectors)\n",
        "scores = Q @ K.T / np.sqrt(d_k)  # Raw attention scores (before softmax)\n",
        "attention_scores = np.exp(scores) / np.sum(np.exp(scores), axis=-1, keepdims=True)  # Softmax normalization"
      ],
      "metadata": {
        "id": "O75-ob4Lc7dL"
      },
      "execution_count": 8,
      "outputs": []
    },
    {
      "cell_type": "code",
      "source": [
        "# Compute final output by multiplying attention scores with V\n",
        "output = attention_scores @ V"
      ],
      "metadata": {
        "id": "s_CYKfBSc8bG"
      },
      "execution_count": 9,
      "outputs": []
    },
    {
      "cell_type": "code",
      "source": [
        "print(\"Tokens:\", tokens)"
      ],
      "metadata": {
        "colab": {
          "base_uri": "https://localhost:8080/"
        },
        "id": "4x9fDh4Oc9bG",
        "outputId": "0627b19e-c2aa-4579-bad0-0bce12c65d26"
      },
      "execution_count": 10,
      "outputs": [
        {
          "output_type": "stream",
          "name": "stdout",
          "text": [
            "Tokens: ['What', 'are', 'the', 'symptoms', 'of', 'diabetes']\n"
          ]
        }
      ]
    },
    {
      "cell_type": "code",
      "source": [
        "print(\"\\nAttention Scores (How much each token attends to others):\")\n",
        "for i, token in enumerate(tokens):\n",
        "    print(f\"{token}: {attention_scores[i]}\")\n",
        "\n",
        "print(\"\\nFinal Output (Transformed embeddings after self-attention):\")\n",
        "for i, token in enumerate(tokens):\n",
        "    print(f\"{token}: {output[i]}\")"
      ],
      "metadata": {
        "colab": {
          "base_uri": "https://localhost:8080/"
        },
        "id": "TxoM67QQc_gP",
        "outputId": "e76f61b3-d0b4-4780-a280-9daee697dc7a"
      },
      "execution_count": 11,
      "outputs": [
        {
          "output_type": "stream",
          "name": "stdout",
          "text": [
            "\n",
            "Attention Scores (How much each token attends to others):\n",
            "What: [0.02078255 0.52564312 0.42337144 0.0163475  0.00063632 0.01321908]\n",
            "are: [1.78313185e-03 6.06323504e-01 3.90046040e-01 1.09050205e-03\n",
            " 3.10924968e-06 7.53712988e-04]\n",
            "the: [2.01660088e-03 6.27837882e-01 3.68013961e-01 1.26235104e-03\n",
            " 4.27275064e-06 8.64932236e-04]\n",
            "symptoms: [1.19509379e-02 5.78954529e-01 3.93834980e-01 8.47454171e-03\n",
            " 1.81151993e-04 6.60385910e-03]\n",
            "of: [0.06927859 0.45303167 0.36070465 0.05713279 0.00899744 0.05085486]\n",
            "diabetes: [1.90622868e-02 5.48823360e-01 4.05499061e-01 1.44820353e-02\n",
            " 5.14804683e-04 1.16184523e-02]\n",
            "\n",
            "Final Output (Transformed embeddings after self-attention):\n",
            "What: [2.06233027 1.20035602 2.68788587 2.23433294]\n",
            "are: [2.12983593 1.22516987 2.76021217 2.23400822]\n",
            "the: [2.13751841 1.22947997 2.76563822 2.22390223]\n",
            "symptoms: [2.10147949 1.21590447 2.72803719 2.2281548 ]\n",
            "of: [1.91991187 1.15470768 2.51682524 2.16290184]\n",
            "diabetes: [2.07543653 1.20628411 2.70004631 2.22776361]\n"
          ]
        }
      ]
    },
    {
      "cell_type": "code",
      "source": [],
      "metadata": {
        "id": "Xl7T5cMSdB8h"
      },
      "execution_count": null,
      "outputs": []
    }
  ]
}